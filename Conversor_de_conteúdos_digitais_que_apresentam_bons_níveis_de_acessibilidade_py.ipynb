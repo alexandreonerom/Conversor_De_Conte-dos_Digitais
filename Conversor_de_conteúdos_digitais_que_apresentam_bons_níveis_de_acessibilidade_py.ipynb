{
  "nbformat": 4,
  "nbformat_minor": 0,
  "metadata": {
    "colab": {
      "provenance": [],
      "authorship_tag": "ABX9TyOYXpe+FBtq9g8M/CvYdEqC",
      "include_colab_link": true
    },
    "kernelspec": {
      "name": "python3",
      "display_name": "Python 3"
    },
    "language_info": {
      "name": "python"
    }
  },
  "cells": [
    {
      "cell_type": "markdown",
      "metadata": {
        "id": "view-in-github",
        "colab_type": "text"
      },
      "source": [
        "<a href=\"https://colab.research.google.com/github/alexandreonerom/Conversor_De_Contedos_Digitais/blob/main/Conversor_de_conte%C3%BAdos_digitais_que_apresentam_bons_n%C3%ADveis_de_acessibilidade_py.ipynb\" target=\"_parent\"><img src=\"https://colab.research.google.com/assets/colab-badge.svg\" alt=\"Open In Colab\"/></a>"
      ]
    },
    {
      "cell_type": "markdown",
      "source": [
        "SDK"
      ],
      "metadata": {
        "id": "aa2eQeh0WosY"
      }
    },
    {
      "cell_type": "markdown",
      "source": [],
      "metadata": {
        "id": "XKx1VE0HWtm-"
      }
    },
    {
      "cell_type": "markdown",
      "source": [
        "Instalando o SDK do Google"
      ],
      "metadata": {
        "id": "ftjRbSCqWwp_"
      }
    },
    {
      "cell_type": "code",
      "execution_count": 1,
      "metadata": {
        "id": "kjT67FJ3WO2G"
      },
      "outputs": [],
      "source": [
        "!pip install -q -U google-generativeai"
      ]
    },
    {
      "cell_type": "markdown",
      "source": [
        "Configure sua chave de API"
      ],
      "metadata": {
        "id": "wgzkMRGCXFMG"
      }
    },
    {
      "cell_type": "code",
      "source": [
        "import google.generativeai as genai\n",
        "from google.colab import userdata\n",
        "api_key = userdata.get('SECRET_KEY')\n",
        "genai.configure(api_key=api_key)"
      ],
      "metadata": {
        "id": "ZOACfDEyXXMF"
      },
      "execution_count": 3,
      "outputs": []
    },
    {
      "cell_type": "markdown",
      "source": [
        "Listar os modelos disponíveis"
      ],
      "metadata": {
        "id": "KSrCiLuzXweV"
      }
    },
    {
      "cell_type": "code",
      "source": [
        "for m in genai.list_models():\n",
        "  if 'generateContent' in m.supported_generation_methods:\n",
        "    print(m.name)"
      ],
      "metadata": {
        "colab": {
          "base_uri": "https://localhost:8080/",
          "height": 138
        },
        "id": "shnXsWdMX4oq",
        "outputId": "b072733d-5c10-4fb2-ec8c-5d438817f503"
      },
      "execution_count": 4,
      "outputs": [
        {
          "output_type": "stream",
          "name": "stdout",
          "text": [
            "models/gemini-1.0-pro\n",
            "models/gemini-1.0-pro-001\n",
            "models/gemini-1.0-pro-latest\n",
            "models/gemini-1.0-pro-vision-latest\n",
            "models/gemini-1.5-pro-latest\n",
            "models/gemini-pro\n",
            "models/gemini-pro-vision\n"
          ]
        }
      ]
    },
    {
      "cell_type": "markdown",
      "source": [
        "Configuração de Geração"
      ],
      "metadata": {
        "id": "i5TfKbxNa1sr"
      }
    },
    {
      "cell_type": "code",
      "source": [
        "generation_config = {\n",
        "    \"candidate_count\": 1,\n",
        "    \"temperature\": 0.5,\n",
        "}"
      ],
      "metadata": {
        "id": "kd2DGz7ebMZY"
      },
      "execution_count": 5,
      "outputs": []
    },
    {
      "cell_type": "code",
      "source": [
        "safety_settings = {\n",
        "    \"HARASSMENT\": \"BLOCK_NONE\",\n",
        "    \"HATE\": \"BLOCK_NONE\",\n",
        "    \"SEXUAL\": \"BLOCK_NONE\",\n",
        "    \"DANGEROUS\": \"BLOCK_NONE\",\n",
        "}"
      ],
      "metadata": {
        "id": "mutaHKKScQQw"
      },
      "execution_count": 6,
      "outputs": []
    },
    {
      "cell_type": "markdown",
      "source": [
        "Iniciando o Modelo"
      ],
      "metadata": {
        "id": "qkCce5o1ejkA"
      }
    },
    {
      "cell_type": "code",
      "source": [
        "model = genai.GenerativeModel(model_name=\"gemini-1.0-pro\",\n",
        "                              generation_config=generation_config,\n",
        "                              safety_settings=safety_settings)"
      ],
      "metadata": {
        "id": "3gfJxFUzdmYV"
      },
      "execution_count": 7,
      "outputs": []
    },
    {
      "cell_type": "code",
      "source": [
        "response = model.generate_content(\"Write a story about a magic backpack.\")\n",
        "print(response.text)"
      ],
      "metadata": {
        "colab": {
          "base_uri": "https://localhost:8080/",
          "height": 297
        },
        "id": "7d6kpZOIf9_W",
        "outputId": "c6476cac-c57e-47c5-f166-837bef5262d5"
      },
      "execution_count": 8,
      "outputs": [
        {
          "output_type": "stream",
          "name": "stdout",
          "text": [
            "In the quaint town of Willow Creek, nestled amidst rolling hills and whispering willows, there lived an ordinary boy named Ethan. Ethan's life took an extraordinary turn when he stumbled upon a mysterious backpack hidden in the attic of his grandmother's house.\n",
            "\n",
            "Its exterior was unassuming, a simple canvas adorned with faded straps. But as Ethan unzipped the main compartment, a surge of energy coursed through his body. Inside, he discovered a shimmering portal, a shimmering gateway to a world of wonder.\n",
            "\n",
            "With trembling hands, Ethan reached into the portal and retrieved a small, leather-bound book. As he flipped through its pages, he realized it contained ancient spells and incantations. A sense of awe washed over him as he understood the true nature of his discovery.\n",
            "\n",
            "The backpack was not merely a container but a conduit to a realm of magic. It granted Ethan the power to manipulate elements, summon creatures, and even travel through time. At first, he was overwhelmed by the possibilities. But as he delved deeper into the backpack's secrets, he began to harness its power responsibly.\n",
            "\n",
            "Ethan used his newfound abilities to help those in need. He healed the sick, protected the weak, and fought against injustice. The backpack became a symbol of hope and wonder in Willow Creek. However, with great power came great responsibility.\n",
            "\n",
            "One fateful day, a sinister sorcerer named Malachi learned of Ethan's backpack. Driven by greed and ambition, Malachi sought to steal its power for his wicked schemes. A fierce battle ensued, magic clashing against magic.\n",
            "\n",
            "In the end, Ethan's courage and determination prevailed. He defeated Malachi and sealed the portal, forever safeguarding the backpack's secrets. From that day forward, Ethan continued to use his magic for good, becoming a legendary figure in the annals of Willow Creek.\n",
            "\n",
            "And so, the tale of the magic backpack was passed down through generations, inspiring children to dream of a world where anything was possible. For in the heart of every ordinary object, there might just lie a spark of extraordinary magic waiting to be discovered.\n"
          ]
        }
      ]
    },
    {
      "cell_type": "code",
      "source": [
        "chat = model.start_chat(history=[])"
      ],
      "metadata": {
        "id": "iXqAs7Ial3Nj"
      },
      "execution_count": 9,
      "outputs": []
    },
    {
      "cell_type": "code",
      "source": [
        "prompt = input(\"Digite sua pergunta: \")\n",
        "while prompt != \"sair\":\n",
        "  response = chat.send_message(prompt)\n",
        "  print(\"Resposta: \", response.text, \"\\n\")\n",
        "  prompt = input(\"Digite sua pergunta: \")"
      ],
      "metadata": {
        "colab": {
          "base_uri": "https://localhost:8080/",
          "height": 711
        },
        "id": "F_pKXIEvmWma",
        "outputId": "331dad3c-c56f-41b0-d4ad-9c3d7810d943"
      },
      "execution_count": 10,
      "outputs": [
        {
          "name": "stdout",
          "output_type": "stream",
          "text": [
            "Digite sua pergunta: O que você consegue fazer com as mídias digitais para torná-la assecíveis para pessoas com deficiência?\n",
            "Resposta:  **Tornando as Mídias Digitais Acessíveis para Pessoas com Deficiência**\n",
            "\n",
            "**Deficiência Visual:**\n",
            "\n",
            "* **Legendas:** Fornecer legendas para vídeos e conteúdo de áudio.\n",
            "* **Texto alternativo:** Fornecer descrições de texto para imagens e gráficos.\n",
            "* **Tamanhos de fonte ajustáveis:** Permitir que os usuários aumentem ou diminuam o tamanho da fonte para facilitar a leitura.\n",
            "* **Contraste de cores:** Garantir que o contraste entre o texto e o fundo seja suficiente para facilitar a leitura.\n",
            "* **Lentes de aumento:** Oferecer ferramentas de ampliação para ampliar o conteúdo da tela.\n",
            "\n",
            "**Deficiência Auditiva:**\n",
            "\n",
            "* **Transcrições:** Fornecer transcrições escritas para conteúdo de áudio e vídeo.\n",
            "* **Legendas:** Fornecer legendas para vídeos e conteúdo de áudio.\n",
            "* **Amplificação de áudio:** Fornecer recursos de amplificação de áudio para melhorar a audibilidade.\n",
            "* **Reconhecimento de fala:** Incorporar recursos de reconhecimento de fala para permitir que os usuários interajam com o conteúdo usando comandos de voz.\n",
            "\n",
            "**Deficiência Cognitiva:**\n",
            "\n",
            "* **Navegação simplificada:** Criar interfaces de usuário simples e intuitivas com ícones e menus claros.\n",
            "* **Símbolos e imagens:** Usar símbolos e imagens para representar conceitos e ações.\n",
            "* **Leitura em voz alta:** Fornecer recursos de leitura em voz alta para ler o conteúdo da tela.\n",
            "* **Tempo extra:** Permitir tempo extra para concluir tarefas e fornecer instruções passo a passo.\n",
            "\n",
            "**Deficiência Física:**\n",
            "\n",
            "* **Navegação por teclado:** Permitir que os usuários naveguem no conteúdo usando apenas o teclado.\n",
            "* **Comandos de voz:** Incorporar comandos de voz para controlar o conteúdo e as funções do dispositivo.\n",
            "* **Entrada alternativa:** Fornecer métodos alternativos de entrada, como reconhecimento de fala ou dispositivos de controle de cursor.\n",
            "* **Dispositivos assistidos:** Apoiar o uso de dispositivos assistidos, como teclados ergonômicos, mouses e telas sensíveis ao toque.\n",
            "\n",
            "**Outras Considerações:**\n",
            "\n",
            "* **Conformidade com as Diretrizes de Acessibilidade:** Garantir que o conteúdo e as plataformas atendam às diretrizes de acessibilidade, como WCAG 2.1 e Seção 508.\n",
            "* **Testes de Acessibilidade:** Realizar testes regulares para garantir que o conteúdo e as plataformas sejam acessíveis a todos os usuários.\n",
            "* **Feedback do Usuário:** Coletar feedback de usuários com deficiência para identificar e resolver problemas de acessibilidade.\n",
            "* **Educação e Conscientização:** Educar o público sobre a importância da acessibilidade e promover práticas inclusivas. \n",
            "\n",
            "Digite sua pergunta: sair\n"
          ]
        }
      ]
    },
    {
      "cell_type": "code",
      "source": [
        "chat"
      ],
      "metadata": {
        "colab": {
          "base_uri": "https://localhost:8080/"
        },
        "id": "plcvQNm2qUCH",
        "outputId": "87fb6f1d-7c75-4b26-a637-a29141527533"
      },
      "execution_count": 11,
      "outputs": [
        {
          "output_type": "execute_result",
          "data": {
            "text/plain": [
              "ChatSession(\n",
              "    model=genai.GenerativeModel(\n",
              "        model_name='models/gemini-1.0-pro',\n",
              "        generation_config={'candidate_count': 1, 'temperature': 0.5},\n",
              "        safety_settings={<HarmCategory.HARM_CATEGORY_HARASSMENT: 7>: <HarmBlockThreshold.BLOCK_NONE: 4>, <HarmCategory.HARM_CATEGORY_HATE_SPEECH: 8>: <HarmBlockThreshold.BLOCK_NONE: 4>, <HarmCategory.HARM_CATEGORY_SEXUALLY_EXPLICIT: 9>: <HarmBlockThreshold.BLOCK_NONE: 4>, <HarmCategory.HARM_CATEGORY_DANGEROUS_CONTENT: 10>: <HarmBlockThreshold.BLOCK_NONE: 4>},\n",
              "        tools=None,\n",
              "        system_instruction=None,\n",
              "    ),\n",
              "    history=[glm.Content({'parts': [{'text': 'O que você c... deficiência?'}], 'role': 'user'}), glm.Content({'parts': [{'text': '**Tornando a...s inclusivas.'}], 'role': 'model'})]\n",
              ")"
            ]
          },
          "metadata": {},
          "execution_count": 11
        }
      ]
    },
    {
      "cell_type": "code",
      "source": [
        "chat.history"
      ],
      "metadata": {
        "colab": {
          "base_uri": "https://localhost:8080/"
        },
        "id": "DEAhF84nqZcw",
        "outputId": "bc4ff2ba-83dc-488a-ecc2-712bd9768445"
      },
      "execution_count": 12,
      "outputs": [
        {
          "output_type": "execute_result",
          "data": {
            "text/plain": [
              "[parts {\n",
              "   text: \"O que voc\\303\\252 consegue fazer com as m\\303\\255dias digitais para torn\\303\\241-la assec\\303\\255veis para pessoas com defici\\303\\252ncia?\"\n",
              " }\n",
              " role: \"user\",\n",
              " parts {\n",
              "   text: \"**Tornando as M\\303\\255dias Digitais Acess\\303\\255veis para Pessoas com Defici\\303\\252ncia**\\n\\n**Defici\\303\\252ncia Visual:**\\n\\n* **Legendas:** Fornecer legendas para v\\303\\255deos e conte\\303\\272do de \\303\\241udio.\\n* **Texto alternativo:** Fornecer descri\\303\\247\\303\\265es de texto para imagens e gr\\303\\241ficos.\\n* **Tamanhos de fonte ajust\\303\\241veis:** Permitir que os usu\\303\\241rios aumentem ou diminuam o tamanho da fonte para facilitar a leitura.\\n* **Contraste de cores:** Garantir que o contraste entre o texto e o fundo seja suficiente para facilitar a leitura.\\n* **Lentes de aumento:** Oferecer ferramentas de amplia\\303\\247\\303\\243o para ampliar o conte\\303\\272do da tela.\\n\\n**Defici\\303\\252ncia Auditiva:**\\n\\n* **Transcri\\303\\247\\303\\265es:** Fornecer transcri\\303\\247\\303\\265es escritas para conte\\303\\272do de \\303\\241udio e v\\303\\255deo.\\n* **Legendas:** Fornecer legendas para v\\303\\255deos e conte\\303\\272do de \\303\\241udio.\\n* **Amplifica\\303\\247\\303\\243o de \\303\\241udio:** Fornecer recursos de amplifica\\303\\247\\303\\243o de \\303\\241udio para melhorar a audibilidade.\\n* **Reconhecimento de fala:** Incorporar recursos de reconhecimento de fala para permitir que os usu\\303\\241rios interajam com o conte\\303\\272do usando comandos de voz.\\n\\n**Defici\\303\\252ncia Cognitiva:**\\n\\n* **Navega\\303\\247\\303\\243o simplificada:** Criar interfaces de usu\\303\\241rio simples e intuitivas com \\303\\255cones e menus claros.\\n* **S\\303\\255mbolos e imagens:** Usar s\\303\\255mbolos e imagens para representar conceitos e a\\303\\247\\303\\265es.\\n* **Leitura em voz alta:** Fornecer recursos de leitura em voz alta para ler o conte\\303\\272do da tela.\\n* **Tempo extra:** Permitir tempo extra para concluir tarefas e fornecer instru\\303\\247\\303\\265es passo a passo.\\n\\n**Defici\\303\\252ncia F\\303\\255sica:**\\n\\n* **Navega\\303\\247\\303\\243o por teclado:** Permitir que os usu\\303\\241rios naveguem no conte\\303\\272do usando apenas o teclado.\\n* **Comandos de voz:** Incorporar comandos de voz para controlar o conte\\303\\272do e as fun\\303\\247\\303\\265es do dispositivo.\\n* **Entrada alternativa:** Fornecer m\\303\\251todos alternativos de entrada, como reconhecimento de fala ou dispositivos de controle de cursor.\\n* **Dispositivos assistidos:** Apoiar o uso de dispositivos assistidos, como teclados ergon\\303\\264micos, mouses e telas sens\\303\\255veis ao toque.\\n\\n**Outras Considera\\303\\247\\303\\265es:**\\n\\n* **Conformidade com as Diretrizes de Acessibilidade:** Garantir que o conte\\303\\272do e as plataformas atendam \\303\\240s diretrizes de acessibilidade, como WCAG 2.1 e Se\\303\\247\\303\\243o 508.\\n* **Testes de Acessibilidade:** Realizar testes regulares para garantir que o conte\\303\\272do e as plataformas sejam acess\\303\\255veis a todos os usu\\303\\241rios.\\n* **Feedback do Usu\\303\\241rio:** Coletar feedback de usu\\303\\241rios com defici\\303\\252ncia para identificar e resolver problemas de acessibilidade.\\n* **Educa\\303\\247\\303\\243o e Conscientiza\\303\\247\\303\\243o:** Educar o p\\303\\272blico sobre a import\\303\\242ncia da acessibilidade e promover pr\\303\\241ticas inclusivas.\"\n",
              " }\n",
              " role: \"model\"]"
            ]
          },
          "metadata": {},
          "execution_count": 12
        }
      ]
    },
    {
      "cell_type": "code",
      "source": [
        "#Melhorando a visualização\n",
        "#Código disponível em https://ai.google.dev/tutorials/python_quickstart#import_packages\n",
        "import textwrap\n",
        "from IPython.display import display\n",
        "from IPython.display import Markdown\n",
        "\n",
        "def to_markdown(text):\n",
        "  text = text.replace('•', '  *')\n",
        "  return Markdown(textwrap.indent(text, '> ', predicate=lambda _: True))\n",
        "\n",
        "#Imprimindo o histórico\n",
        "for message in chat.history:\n",
        "  display(to_markdown(f'**{message.role}**: {message.parts[0].text}'))\n",
        "  print('-------------------------------------------')"
      ],
      "metadata": {
        "colab": {
          "base_uri": "https://localhost:8080/",
          "height": 688
        },
        "id": "1_B0m0unpyWo",
        "outputId": "f5213b68-511f-4b73-f0d0-822f7490f26b"
      },
      "execution_count": 13,
      "outputs": [
        {
          "output_type": "display_data",
          "data": {
            "text/plain": [
              "<IPython.core.display.Markdown object>"
            ],
            "text/markdown": "> **user**: O que você consegue fazer com as mídias digitais para torná-la assecíveis para pessoas com deficiência?"
          },
          "metadata": {}
        },
        {
          "output_type": "stream",
          "name": "stdout",
          "text": [
            "-------------------------------------------\n"
          ]
        },
        {
          "output_type": "display_data",
          "data": {
            "text/plain": [
              "<IPython.core.display.Markdown object>"
            ],
            "text/markdown": "> **model**: **Tornando as Mídias Digitais Acessíveis para Pessoas com Deficiência**\n> \n> **Deficiência Visual:**\n> \n> * **Legendas:** Fornecer legendas para vídeos e conteúdo de áudio.\n> * **Texto alternativo:** Fornecer descrições de texto para imagens e gráficos.\n> * **Tamanhos de fonte ajustáveis:** Permitir que os usuários aumentem ou diminuam o tamanho da fonte para facilitar a leitura.\n> * **Contraste de cores:** Garantir que o contraste entre o texto e o fundo seja suficiente para facilitar a leitura.\n> * **Lentes de aumento:** Oferecer ferramentas de ampliação para ampliar o conteúdo da tela.\n> \n> **Deficiência Auditiva:**\n> \n> * **Transcrições:** Fornecer transcrições escritas para conteúdo de áudio e vídeo.\n> * **Legendas:** Fornecer legendas para vídeos e conteúdo de áudio.\n> * **Amplificação de áudio:** Fornecer recursos de amplificação de áudio para melhorar a audibilidade.\n> * **Reconhecimento de fala:** Incorporar recursos de reconhecimento de fala para permitir que os usuários interajam com o conteúdo usando comandos de voz.\n> \n> **Deficiência Cognitiva:**\n> \n> * **Navegação simplificada:** Criar interfaces de usuário simples e intuitivas com ícones e menus claros.\n> * **Símbolos e imagens:** Usar símbolos e imagens para representar conceitos e ações.\n> * **Leitura em voz alta:** Fornecer recursos de leitura em voz alta para ler o conteúdo da tela.\n> * **Tempo extra:** Permitir tempo extra para concluir tarefas e fornecer instruções passo a passo.\n> \n> **Deficiência Física:**\n> \n> * **Navegação por teclado:** Permitir que os usuários naveguem no conteúdo usando apenas o teclado.\n> * **Comandos de voz:** Incorporar comandos de voz para controlar o conteúdo e as funções do dispositivo.\n> * **Entrada alternativa:** Fornecer métodos alternativos de entrada, como reconhecimento de fala ou dispositivos de controle de cursor.\n> * **Dispositivos assistidos:** Apoiar o uso de dispositivos assistidos, como teclados ergonômicos, mouses e telas sensíveis ao toque.\n> \n> **Outras Considerações:**\n> \n> * **Conformidade com as Diretrizes de Acessibilidade:** Garantir que o conteúdo e as plataformas atendam às diretrizes de acessibilidade, como WCAG 2.1 e Seção 508.\n> * **Testes de Acessibilidade:** Realizar testes regulares para garantir que o conteúdo e as plataformas sejam acessíveis a todos os usuários.\n> * **Feedback do Usuário:** Coletar feedback de usuários com deficiência para identificar e resolver problemas de acessibilidade.\n> * **Educação e Conscientização:** Educar o público sobre a importância da acessibilidade e promover práticas inclusivas."
          },
          "metadata": {}
        },
        {
          "output_type": "stream",
          "name": "stdout",
          "text": [
            "-------------------------------------------\n"
          ]
        }
      ]
    }
  ]
}